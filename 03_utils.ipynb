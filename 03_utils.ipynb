{
 "cells": [
  {
   "cell_type": "code",
   "execution_count": null,
   "metadata": {},
   "outputs": [],
   "source": [
    "# default_exp utils"
   ]
  },
  {
   "cell_type": "markdown",
   "metadata": {},
   "source": [
    "# utils\n",
    "\n",
    "> helper methods for Anomaly Detection in Time Series"
   ]
  },
  {
   "cell_type": "markdown",
   "metadata": {},
   "source": [
    "# Imports"
   ]
  },
  {
   "cell_type": "code",
   "execution_count": null,
   "metadata": {},
   "outputs": [],
   "source": [
    "#export\n",
    "import matplotlib.pyplot as plt\n",
    "import seaborn as sns;"
   ]
  },
  {
   "cell_type": "markdown",
   "metadata": {},
   "source": [
    "# plot_anomalies"
   ]
  },
  {
   "cell_type": "code",
   "execution_count": null,
   "metadata": {},
   "outputs": [],
   "source": [
    "#export\n",
    "def plot_anomalies(ts, anomalies, figsize=(20, 5), \n",
    "                   s=50, anomaly_color='red'):\n",
    "    '''\n",
    "    Input:\n",
    "        ts: Series object  with DatetimeIndex\n",
    "        anomalias: Series object with DatetimeIndex\n",
    "    Output:\n",
    "        fig, ax\n",
    "    '''\n",
    "    fig, ax = plt.subplots(1, 1, figsize=figsize)\n",
    "    # plot ts\n",
    "    sns.lineplot(x=ts.index, y=ts, ax=ax)\n",
    "    # plot anomalies\n",
    "    sns.scatterplot(x=anomalies.index, y=anomalies, s=s, color=anomaly_color, ax=ax)\n",
    "    \n",
    "    return fig, ax"
   ]
  }
 ],
 "metadata": {
  "kernelspec": {
   "display_name": "Python 3",
   "language": "python",
   "name": "python3"
  }
 },
 "nbformat": 4,
 "nbformat_minor": 4
}
