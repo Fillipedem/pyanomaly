{
 "cells": [
  {
   "cell_type": "code",
   "execution_count": null,
   "metadata": {},
   "outputs": [],
   "source": [
    "# default_exp timeseries"
   ]
  },
  {
   "cell_type": "markdown",
   "metadata": {},
   "source": [
    "# timeseries\n",
    "\n",
    "> Módulo com implementação de algoritmos para detecção de **anomalias em series temporais**."
   ]
  },
  {
   "cell_type": "code",
   "execution_count": null,
   "metadata": {},
   "outputs": [],
   "source": [
    "#export\n",
    "import numpy as np\n",
    "import pandas as pd\n",
    "\n",
    "from pyanomaly.stats import MAD, Tukey #, ESD"
   ]
  },
  {
   "cell_type": "code",
   "execution_count": null,
   "metadata": {},
   "outputs": [],
   "source": [
    "#export\n",
    "def factory_atype(atype='mad'):\n",
    "    if atype == 'mad':\n",
    "        return MAD()\n",
    "    elif atype == 'tukey':\n",
    "        return Tukey\n",
    "    else:\n",
    "        raise ValueError('Algoritmo de detecção de anomalia não implementado - \\\"{}\\\"'.format(atype))"
   ]
  },
  {
   "cell_type": "markdown",
   "metadata": {},
   "source": [
    "## Moving Average"
   ]
  },
  {
   "cell_type": "code",
   "execution_count": null,
   "metadata": {},
   "outputs": [],
   "source": [
    "#export\n",
    "def anomaly_ma(ts, window=12, atype='mad'):\n",
    "    ''' \n",
    "    Detecção de anomalias com base no Moving Average da serie tempora(ts).\n",
    "    ts = numpy array      - serie temporal\n",
    "    window_size = [2..n]  - Tamanho da janela\n",
    "    atype = ['mad', 'tukey', 'esd'] - algoritmo para detecção de anomalias'''\n",
    "    ts_ma = pd.Series(ts).rolling(window).mean()\n",
    "    m = factory_atype(atype)\n",
    "    m.fit(ts_ma)\n",
    "    return m.predict(ts_ma)"
   ]
  },
  {
   "cell_type": "code",
   "execution_count": null,
   "metadata": {},
   "outputs": [],
   "source": [
    "#hide"
   ]
  },
  {
   "cell_type": "markdown",
   "metadata": {},
   "source": [
    "## Twitter\n",
    "\n",
    "O algoritmo popularizado pelo Twitter é um conjunto como o **Seasonal Hybrid ESD (S-H-ESD)**  que funciona em cima do **Generalized ESD test** para detecção de anomalias. S-H-ESD pode ser utilizado tanto para detecção local ou global de anomalias. O método envolvi decompor a serie temporal e utilizar métodos robustos para detecção de anomalias(MAD).\n",
    "\n",
    "Já existe a implementação fornecida pelo **Twitter** na linguagem **R**, a seguir temos a implementação do algoritmo feita em Python.\n",
    "\n",
    "Artigo: https://arxiv.org/pdf/1704.07706.pdf"
   ]
  },
  {
   "cell_type": "code",
   "execution_count": null,
   "metadata": {},
   "outputs": [],
   "source": [
    "#export\n",
    "def twitter(x, seasonal=24):\n",
    "    ''' \n",
    "        Retorna os index dos valores que são anomalias\n",
    "        input precisa ser um Serie com index temporal'''\n",
    "    # achamos o componente seasonal\n",
    "    stl = STL(x, seasonal=seasonal)\n",
    "    res = stl.fit()\n",
    "    # calculamos o residuo\n",
    "    residuo = x - np.nanmedian(df) - res.seasonal\n",
    "    # Procuramos outliers com MAD\n",
    "    mad = MAD()\n",
    "    mad.fit(residuo)\n",
    "    index = mad.predict(residuo).index\n",
    "    return x.loc[index]"
   ]
  },
  {
   "cell_type": "markdown",
   "metadata": {},
   "source": [
    "## Seasonal ESD (S-ESD)"
   ]
  },
  {
   "cell_type": "code",
   "execution_count": null,
   "metadata": {},
   "outputs": [],
   "source": [
    "## TODO"
   ]
  },
  {
   "cell_type": "markdown",
   "metadata": {},
   "source": [
    "## Seasonal Hybrid ESD (S-H-ESD)"
   ]
  },
  {
   "cell_type": "code",
   "execution_count": null,
   "metadata": {},
   "outputs": [],
   "source": [
    "## TODO"
   ]
  }
 ],
 "metadata": {
  "kernelspec": {
   "display_name": "Python 3",
   "language": "python",
   "name": "python3"
  }
 },
 "nbformat": 4,
 "nbformat_minor": 4
}
