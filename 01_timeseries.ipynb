{
 "cells": [
  {
   "cell_type": "code",
   "execution_count": null,
   "metadata": {},
   "outputs": [],
   "source": [
    "# default_exp timeseries"
   ]
  },
  {
   "cell_type": "markdown",
   "metadata": {},
   "source": [
    "# timeseries\n",
    "\n",
    "> Módulo com implementação de algoritmos para detecção de **anomalias em series temporais**."
   ]
  },
  {
   "cell_type": "code",
   "execution_count": null,
   "metadata": {},
   "outputs": [],
   "source": [
    "#export\n",
    "import numpy as np\n",
    "import pandas as pd\n",
    "\n",
    "from pyanomaly.stats import MAD, Tukey #, ESD"
   ]
  },
  {
   "cell_type": "code",
   "execution_count": null,
   "metadata": {},
   "outputs": [],
   "source": [
    "#export\n",
    "def factory_atype(atype='mad'):\n",
    "    if atype == 'mad':\n",
    "        return MAD()\n",
    "    elif atype == 'tukey':\n",
    "        return Tukey\n",
    "    else:\n",
    "        raise ValueError('Algoritmo de detecção de anomalia não implementado - \\\"{}\\\"'.format(atype))"
   ]
  },
  {
   "cell_type": "markdown",
   "metadata": {},
   "source": [
    "## Moving Average"
   ]
  },
  {
   "cell_type": "code",
   "execution_count": null,
   "metadata": {},
   "outputs": [],
   "source": [
    "#export\n",
    "def moving_average(ts, window=12, atype='mad'):\n",
    "    ''' \n",
    "    Detecção de anomalias com base no Moving Average da serie tempora(ts).\n",
    "    ts = numpy array      - serie temporal\n",
    "    window_size = [2..n]  - Tamanho da janela\n",
    "    atype = ['mad', 'tukey'] - algoritmo para detecção de anomalias'''\n",
    "    ts_ma = pd.Series(ts).rolling(window).mean()\n",
    "    m = factory_atype(atype)\n",
    "    m.fit(ts_ma)\n",
    "    return m.predict(ts_ma)"
   ]
  },
  {
   "cell_type": "code",
   "execution_count": null,
   "metadata": {},
   "outputs": [],
   "source": [
    "#export\n",
    "def moving_average_score(ts, window=12,  atype='mad'):\n",
    "    '''\n",
    "    Detecção de anomalias com base no Moving Average da serie tempora(ts).\n",
    "    ts = numpy array      - serie temporal\n",
    "    window_size = [2..n]  - Tamanho da janela\n",
    "    atype = ['mad', 'tukey'] - algoritmo para detecção de anomalias'''\n",
    "    ts_ma = pd.Series(ts).rolling(window).mean()\n",
    "    m = factory_atype(atype)\n",
    "    m.fit(ts_ma)\n",
    "    return m.decision_function(ts_ma)"
   ]
  },
  {
   "cell_type": "markdown",
   "metadata": {},
   "source": [
    "## Twitter\n",
    "\n",
    "O algoritmo popularizado pelo Twitter é um conjunto como o **Seasonal Hybrid ESD (S-H-ESD)**  que funciona em cima do **Generalized ESD test** para detecção de anomalias. S-H-ESD pode ser utilizado tanto para detecção local ou global de anomalias. O método envolvi decompor a serie temporal e utilizar métodos robustos para detecção de anomalias(MAD).\n",
    "\n",
    "Já existe a implementação fornecida pelo **Twitter** na linguagem **R**, a seguir temos a implementação do algoritmo feita em Python.\n",
    "\n",
    "Artigo: https://arxiv.org/pdf/1704.07706.pdf"
   ]
  },
  {
   "cell_type": "code",
   "execution_count": null,
   "metadata": {},
   "outputs": [],
   "source": [
    "#export\n",
    "from statsmodels.tsa.seasonal import STL\n",
    "\n",
    "def twitter(x, m=3.0, period=None, seasonal=45, only_low_values=False):\n",
    "    ''' \n",
    "        Retorna os index dos valores que são anomalias\n",
    "        input precisa ser um Serie com DateTimeIndex'''\n",
    "    # filtrando o componente seasonal\n",
    "    if period is not None:\n",
    "        stl = STL(x, period=period, seasonal=seasonal)\n",
    "    else:\n",
    "        stl = STL(x, seasonal=seasonal)\n",
    "    \n",
    "    res = stl.fit()\n",
    "    # calculamos o residuo\n",
    "    residuo = x - np.nanmedian(x) - res.seasonal\n",
    "    # Procuramos outliers com MAD\n",
    "    mad = MAD(only_low_values=only_low_values)\n",
    "    mad.fit(residuo)\n",
    "    index = mad.predict(residuo, m=m).index\n",
    "    return x.loc[index]"
   ]
  },
  {
   "cell_type": "code",
   "execution_count": null,
   "metadata": {},
   "outputs": [],
   "source": [
    "#export\n",
    "from statsmodels.tsa.seasonal import STL\n",
    "\n",
    "def twitter_score(x, m=3.0, period=None, seasonal=45):\n",
    "    ''' \n",
    "        Retorna os index dos valores que são anomalias\n",
    "        input precisa ser um Serie com index temporal'''\n",
    "    # filtrando o componente seasonal\n",
    "    if period is not None:\n",
    "        stl = STL(x, period=period, seasonal=seasonal)\n",
    "    else:\n",
    "        stl = STL(x, seasonal=seasonal)\n",
    "    res = stl.fit()\n",
    "    # calculamos o residuo\n",
    "    residuo = x - np.nanmedian(x) - res.seasonal\n",
    "    # Procuramos outliers com MAD\n",
    "    mad = MAD()\n",
    "    mad.fit(residuo, m=m)\n",
    "    return mad.decision_function(residuo)"
   ]
  },
  {
   "cell_type": "markdown",
   "metadata": {},
   "source": [
    "# Teste"
   ]
  },
  {
   "cell_type": "code",
   "execution_count": null,
   "metadata": {},
   "outputs": [
    {
     "data": {
      "text/html": [
       "<div>\n",
       "<style scoped>\n",
       "    .dataframe tbody tr th:only-of-type {\n",
       "        vertical-align: middle;\n",
       "    }\n",
       "\n",
       "    .dataframe tbody tr th {\n",
       "        vertical-align: top;\n",
       "    }\n",
       "\n",
       "    .dataframe thead th {\n",
       "        text-align: right;\n",
       "    }\n",
       "</style>\n",
       "<table border=\"1\" class=\"dataframe\">\n",
       "  <thead>\n",
       "    <tr style=\"text-align: right;\">\n",
       "      <th></th>\n",
       "      <th>kw_energy_consumption</th>\n",
       "    </tr>\n",
       "    <tr>\n",
       "      <th>datetime</th>\n",
       "      <th></th>\n",
       "    </tr>\n",
       "  </thead>\n",
       "  <tbody>\n",
       "    <tr>\n",
       "      <th>2010-07-02 00:00:00</th>\n",
       "      <td>21.2</td>\n",
       "    </tr>\n",
       "    <tr>\n",
       "      <th>2010-07-02 01:00:00</th>\n",
       "      <td>16.4</td>\n",
       "    </tr>\n",
       "    <tr>\n",
       "      <th>2010-07-02 02:00:00</th>\n",
       "      <td>4.7</td>\n",
       "    </tr>\n",
       "    <tr>\n",
       "      <th>2010-07-02 03:00:00</th>\n",
       "      <td>4.7</td>\n",
       "    </tr>\n",
       "    <tr>\n",
       "      <th>2010-07-02 04:00:00</th>\n",
       "      <td>4.6</td>\n",
       "    </tr>\n",
       "  </tbody>\n",
       "</table>\n",
       "</div>"
      ],
      "text/plain": [
       "                     kw_energy_consumption\n",
       "datetime                                  \n",
       "2010-07-02 00:00:00                   21.2\n",
       "2010-07-02 01:00:00                   16.4\n",
       "2010-07-02 02:00:00                    4.7\n",
       "2010-07-02 03:00:00                    4.7\n",
       "2010-07-02 04:00:00                    4.6"
      ]
     },
     "execution_count": null,
     "metadata": {},
     "output_type": "execute_result"
    }
   ],
   "source": [
    "df = pd.read_csv('./dados/rec-center-hourly.csv', parse_dates=[0])\n",
    "df.set_index('datetime', inplace=True)\n",
    "df.head()"
   ]
  },
  {
   "cell_type": "code",
   "execution_count": null,
   "metadata": {},
   "outputs": [
    {
     "data": {
      "text/plain": [
       "datetime\n",
       "2010-07-03 18:00:00    11.6\n",
       "2010-07-03 19:00:00     5.3\n",
       "2010-07-03 20:00:00     5.4\n",
       "2010-07-04 06:00:00     5.2\n",
       "2010-07-04 07:00:00     5.6\n",
       "                       ... \n",
       "2010-12-30 17:00:00    60.7\n",
       "2010-12-30 18:00:00    55.2\n",
       "2010-12-31 05:00:00    60.8\n",
       "2010-12-31 09:00:00    83.1\n",
       "2010-12-31 10:00:00    75.7\n",
       "Name: kw_energy_consumption, Length: 346, dtype: float64"
      ]
     },
     "execution_count": null,
     "metadata": {},
     "output_type": "execute_result"
    }
   ],
   "source": [
    "twitter(df['kw_energy_consumption'])"
   ]
  },
  {
   "cell_type": "code",
   "execution_count": null,
   "metadata": {},
   "outputs": [
    {
     "data": {
      "text/plain": [
       "datetime\n",
       "2010-07-04 07:00:00    5.6\n",
       "2010-07-18 07:00:00    5.5\n",
       "2010-11-06 18:00:00    5.2\n",
       "2010-11-07 18:00:00    5.3\n",
       "2010-11-13 18:00:00    5.4\n",
       "2010-11-14 18:00:00    5.4\n",
       "2010-11-20 18:00:00    6.2\n",
       "2010-11-21 18:00:00    6.2\n",
       "2010-11-27 18:00:00    5.5\n",
       "2010-11-28 06:00:00    8.7\n",
       "2010-11-28 18:00:00    5.4\n",
       "2010-12-04 18:00:00    5.4\n",
       "2010-12-05 06:00:00    8.9\n",
       "2010-12-05 18:00:00    5.3\n",
       "2010-12-25 17:00:00    5.7\n",
       "2010-12-26 16:00:00    6.0\n",
       "2010-12-26 17:00:00    5.5\n",
       "Name: kw_energy_consumption, dtype: float64"
      ]
     },
     "execution_count": null,
     "metadata": {},
     "output_type": "execute_result"
    }
   ],
   "source": [
    "anomalies = twitter(df['kw_energy_consumption'], only_low_values=True, m=5.0)\n",
    "anomalies"
   ]
  }
 ],
 "metadata": {
  "kernelspec": {
   "display_name": "Python 3",
   "language": "python",
   "name": "python3"
  }
 },
 "nbformat": 4,
 "nbformat_minor": 4
}
