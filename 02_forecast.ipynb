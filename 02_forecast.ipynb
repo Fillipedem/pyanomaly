{
 "cells": [
  {
   "cell_type": "code",
   "execution_count": null,
   "metadata": {},
   "outputs": [],
   "source": [
    "# default_exp forecast"
   ]
  },
  {
   "cell_type": "markdown",
   "metadata": {},
   "source": [
    "# forecast\n",
    "\n",
    "> Módulo com implementação de algoritmos para detecção de anomalias em series temporais utilizando métodos de **forecast**:\n",
    "\n",
    "* **ARIMA**\n",
    "* **Holt-Winters**"
   ]
  },
  {
   "cell_type": "code",
   "execution_count": null,
   "metadata": {},
   "outputs": [],
   "source": [
    "#export\n",
    "import numpy as np\n",
    "import pandas as pd\n",
    "\n",
    "import warnings\n",
    "import pmdarima as pm"
   ]
  },
  {
   "cell_type": "markdown",
   "metadata": {},
   "source": [
    "## ARIMA"
   ]
  },
  {
   "cell_type": "code",
   "execution_count": null,
   "metadata": {},
   "outputs": [],
   "source": [
    "#export\n",
    "def auto_arima(ts, max_p=5, max_q=5, trace=True):\n",
    "    ''' returns ARIMA model for **ts** '''\n",
    "    #ignore  statmodels warning\n",
    "    with warnings.catch_warnings():\n",
    "        warnings.filterwarnings(\"ignore\")\n",
    "        model = pm.auto_arima(df['value'].values, max_p=max_p, max_q=max_q)\n",
    "\n",
    "    return model"
   ]
  },
  {
   "cell_type": "code",
   "execution_count": null,
   "metadata": {},
   "outputs": [],
   "source": [
    "#export\n",
    "def check_interval(ts_orig, conf_inter):\n",
    "    ''' retornar os pontos da serie t'emporal **ts_orig** \n",
    "        que estão dentro do intervalo de confiança\n",
    "        \n",
    "        Inputs:\n",
    "        ts_orig: pd.Series()\n",
    "        conf_inter: np.array([[0, 1], [1, 2], ..., [1, 2]]) \n",
    "                    shape: (N_examples, 2)\n",
    "        \n",
    "        returns:\n",
    "        Series contendo os pontos dentro do intervalo de confiança \n",
    "        '''\n",
    "    df_conf = pd.DataFrame(conf_inter)\n",
    "    anomalies = ((ts.values >= tmp[0].values)) & ((ts.values < tmp[1].values))\n",
    "    return ts_orig[~anomalies]"
   ]
  },
  {
   "cell_type": "code",
   "execution_count": null,
   "metadata": {},
   "outputs": [],
   "source": [
    "#export\n",
    "def arima_anomalies(ts, model):\n",
    "    '''\n",
    "    returns anomalies based on arima forecast\n",
    "    ts: Series\n",
    "    model: ARIMAmodel from pdmarima\n",
    "    '''\n",
    "    conf_inter = model.predict_in_sample(return_conf_int=True)[1]\n",
    "    return check_interval(ts, conf_inter)"
   ]
  }
 ],
 "metadata": {
  "kernelspec": {
   "display_name": "Python 3",
   "language": "python",
   "name": "python3"
  }
 },
 "nbformat": 4,
 "nbformat_minor": 4
}
