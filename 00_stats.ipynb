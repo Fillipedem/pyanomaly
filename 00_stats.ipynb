{
 "cells": [
  {
   "cell_type": "code",
   "execution_count": null,
   "metadata": {},
   "outputs": [],
   "source": [
    "# default_exp stats"
   ]
  },
  {
   "cell_type": "markdown",
   "metadata": {},
   "source": [
    "# stats\n",
    "\n",
    "> Módulo que contém os algoritmos para detecção de anomalias em dados univariados.\n",
    "\n",
    "* Robust ZScore\n",
    "* Tukey"
   ]
  },
  {
   "cell_type": "code",
   "execution_count": null,
   "metadata": {},
   "outputs": [],
   "source": [
    "#hide\n",
    "from nbdev.showdoc import *"
   ]
  },
  {
   "cell_type": "markdown",
   "metadata": {},
   "source": [
    "## Pré-requisitos"
   ]
  },
  {
   "cell_type": "code",
   "execution_count": null,
   "metadata": {},
   "outputs": [],
   "source": [
    "#export\n",
    "import numpy as np"
   ]
  },
  {
   "cell_type": "markdown",
   "metadata": {},
   "source": [
    "## MAD - Robust ZScore\n",
    "\n",
    "Para detecção de anomalias o Zscore Robusto é mais adequado que o Zscore padrão, uma vez que a média pode ser fortemente influenciada por outliers."
   ]
  },
  {
   "cell_type": "code",
   "execution_count": null,
   "metadata": {},
   "outputs": [],
   "source": [
    "#export\n",
    "class MAD():\n",
    "    ''' \n",
    "    classe responsavel por implemetar zscore robusto\n",
    "    para detecção de anomalias.\n",
    "    '''\n",
    "    def __init__(self):\n",
    "        pass\n",
    "\n",
    "    def _mad(self, x):\n",
    "        ''' retorna o MAD(Median Absolute Deviation) para cada valor de **x** '''\n",
    "        return (0.6745*(x - self.median))/self.mad\n",
    "    \n",
    "    def fit(self, x):\n",
    "        ''' Calcula os parametros do Zscore Robusto(Median/MAD) para os valores de **x** '''\n",
    "        self.mad = np.nanmedian(np.abs(x - np.nanmedian(x)))\n",
    "        self.median = np.nanmedian(x)\n",
    "\n",
    "    def predict(self, x, m=3.0):\n",
    "        ''' retorna se os valores de **x** são outliers '''\n",
    "        mad = self._mad(x)\n",
    "        return x[np.abs(mad) > m]\n",
    "    \n",
    "    def fit_predict(self, x, m=3.0):\n",
    "        ''' Calcula os parametros e retorno os valores\n",
    "            de **x** que são outliers'''\n",
    "        self.fit(x)\n",
    "        return self.predict(x, m)"
   ]
  },
  {
   "cell_type": "code",
   "execution_count": null,
   "metadata": {},
   "outputs": [
    {
     "data": {
      "text/markdown": [
       "<h4 id=\"MAD.fit\" class=\"doc_header\"><code>MAD.fit</code><a href=\"__main__.py#L14\" class=\"source_link\" style=\"float:right\">[source]</a></h4>\n",
       "\n",
       "> <code>MAD.fit</code>(**`x`**)\n",
       "\n",
       "Calcula os parametros do Zscore Robusto(Median/MAD) para os valores de **x** "
      ],
      "text/plain": [
       "<IPython.core.display.Markdown object>"
      ]
     },
     "metadata": {},
     "output_type": "display_data"
    }
   ],
   "source": [
    "show_doc(MAD.fit)"
   ]
  },
  {
   "cell_type": "code",
   "execution_count": null,
   "metadata": {},
   "outputs": [
    {
     "data": {
      "text/markdown": [
       "<h4 id=\"MAD.predict\" class=\"doc_header\"><code>MAD.predict</code><a href=\"__main__.py#L19\" class=\"source_link\" style=\"float:right\">[source]</a></h4>\n",
       "\n",
       "> <code>MAD.predict</code>(**`x`**, **`m`**=*`3.0`*)\n",
       "\n",
       "retorna se os valores de **x** são outliers "
      ],
      "text/plain": [
       "<IPython.core.display.Markdown object>"
      ]
     },
     "metadata": {},
     "output_type": "display_data"
    }
   ],
   "source": [
    "show_doc(MAD.predict)"
   ]
  },
  {
   "cell_type": "code",
   "execution_count": null,
   "metadata": {},
   "outputs": [
    {
     "data": {
      "text/markdown": [
       "<h4 id=\"MAD.fit_predict\" class=\"doc_header\"><code>MAD.fit_predict</code><a href=\"__main__.py#L24\" class=\"source_link\" style=\"float:right\">[source]</a></h4>\n",
       "\n",
       "> <code>MAD.fit_predict</code>(**`x`**, **`m`**=*`3.0`*)\n",
       "\n",
       "Calcula os parametros e retorno os valores\n",
       "de x que são outliers"
      ],
      "text/plain": [
       "<IPython.core.display.Markdown object>"
      ]
     },
     "metadata": {},
     "output_type": "display_data"
    }
   ],
   "source": [
    "show_doc(MAD.fit_predict)"
   ]
  },
  {
   "cell_type": "markdown",
   "metadata": {},
   "source": [
    "## Tukey"
   ]
  },
  {
   "cell_type": "code",
   "execution_count": null,
   "metadata": {},
   "outputs": [],
   "source": [
    "#export\n",
    "class Tukey():\n",
    "    ''' \n",
    "    classe responsavel por implemetar Tukey Method\n",
    "    para detecção de anomalias.\n",
    "    '''\n",
    "\n",
    "    def __init__(self):\n",
    "        self.iqr = None\n",
    "        self.q1 = None\n",
    "        self.q2 = None\n",
    "        self.q3 = None\n",
    "    \n",
    "    def fit(self, x):\n",
    "        ''' Calcula os parametros do Tukey(Q1,Q2,Q3) para os valores de **x** '''\n",
    "        x = np.sort(x) \n",
    "        n = len(x)//2\n",
    "    \n",
    "        # calculando os quartiles\n",
    "        self.q1 = np.nanmedian(x[:n])\n",
    "        self.q2 = np.nanmedian(x)\n",
    "        self.q3 = np.nanmedian(x[n:])\n",
    "    \n",
    "        self.iqr = self.q3 - self.q1\n",
    "        self.min = self.q1 - 1.5*self.iqr\n",
    "        self.max = self.q3 + 1.5*self.iqr\n",
    "        \n",
    "    def predict(self, x):\n",
    "        ''' retorna se os valores de **x** são outliers '''\n",
    "        return x[(x < self.min) | (x >= self.max)]\n",
    "    \n",
    "    def fit_predict(self, x):\n",
    "        ''' Calcula os parametros e retorno os valores\n",
    "            de **x** que são outliers'''\n",
    "        self.fit(x)\n",
    "        return self.predict(x)"
   ]
  },
  {
   "cell_type": "code",
   "execution_count": null,
   "metadata": {},
   "outputs": [
    {
     "data": {
      "text/markdown": [
       "<h4 id=\"Tukey.fit\" class=\"doc_header\"><code>Tukey.fit</code><a href=\"__main__.py#L14\" class=\"source_link\" style=\"float:right\">[source]</a></h4>\n",
       "\n",
       "> <code>Tukey.fit</code>(**`x`**)\n",
       "\n",
       "Calcula os parametros do Tukey(Q1,Q2,Q3) para os valores de **x** "
      ],
      "text/plain": [
       "<IPython.core.display.Markdown object>"
      ]
     },
     "metadata": {},
     "output_type": "display_data"
    }
   ],
   "source": [
    "show_doc(Tukey.fit)"
   ]
  },
  {
   "cell_type": "code",
   "execution_count": null,
   "metadata": {},
   "outputs": [
    {
     "data": {
      "text/markdown": [
       "<h4 id=\"Tukey.predict\" class=\"doc_header\"><code>Tukey.predict</code><a href=\"__main__.py#L28\" class=\"source_link\" style=\"float:right\">[source]</a></h4>\n",
       "\n",
       "> <code>Tukey.predict</code>(**`x`**)\n",
       "\n",
       "retorna se os valores de **x** são outliers "
      ],
      "text/plain": [
       "<IPython.core.display.Markdown object>"
      ]
     },
     "metadata": {},
     "output_type": "display_data"
    }
   ],
   "source": [
    "show_doc(Tukey.predict)"
   ]
  },
  {
   "cell_type": "markdown",
   "metadata": {},
   "source": [
    "#### TODO\n",
    "\n",
    "* Arima\n",
    "* DBSCAN\n",
    "* Statistical Control Chart Techniques"
   ]
  },
  {
   "cell_type": "markdown",
   "metadata": {},
   "source": [
    "## Funções de ajuda"
   ]
  },
  {
   "cell_type": "code",
   "execution_count": null,
   "metadata": {},
   "outputs": [],
   "source": [
    "#export\n",
    "def window(m, x):\n",
    "    ''' calcula a probabilidade do intervalo ser um outlier\n",
    "        com base nas medições individuais de cada medidor '''\n",
    "    y_pred = m.predict(x)\n",
    "    return y_pred.sum()/len(y_pred)\n",
    "\n",
    "def window(m, x):\n",
    "    ''' calcula a probabilidade do intervalo ser um outlier\n",
    "        com base na soma das medições individuas '''\n",
    "    y_pred = m.predict_proba(x)\n",
    "    return y_pred.sum()"
   ]
  }
 ],
 "metadata": {
  "kernelspec": {
   "display_name": "Python 3",
   "language": "python",
   "name": "python3"
  }
 },
 "nbformat": 4,
 "nbformat_minor": 2
}
