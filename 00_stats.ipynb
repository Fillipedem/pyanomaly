{
 "cells": [
  {
   "cell_type": "code",
   "execution_count": null,
   "metadata": {},
   "outputs": [],
   "source": [
    "# default_exp stats"
   ]
  },
  {
   "cell_type": "markdown",
   "metadata": {},
   "source": [
    "# stats\n",
    "\n",
    "> Módulo que contém os algoritmos para detecção de anomalias em dados univariados.\n",
    "\n",
    "* Robust ZScore\n",
    "* Tukey"
   ]
  },
  {
   "cell_type": "code",
   "execution_count": null,
   "metadata": {},
   "outputs": [],
   "source": [
    "#hide\n",
    "from nbdev.showdoc import *"
   ]
  },
  {
   "cell_type": "markdown",
   "metadata": {},
   "source": [
    "## Imports"
   ]
  },
  {
   "cell_type": "code",
   "execution_count": null,
   "metadata": {},
   "outputs": [],
   "source": [
    "#export\n",
    "import numpy as np"
   ]
  },
  {
   "cell_type": "markdown",
   "metadata": {},
   "source": [
    "## MAD - Robust Zscore\n",
    "\n",
    "    For anomaly detection the Robust Zscore is more suitable than the standard Zscore.\n",
    "\n",
    "    Since the mean can be strongly influenced by outliers, Robust Zscore replaces the mean by the median."
   ]
  },
  {
   "cell_type": "code",
   "execution_count": null,
   "metadata": {},
   "outputs": [],
   "source": [
    "#export\n",
    "class MAD():\n",
    "    ''' \n",
    "    Robust z score implementation.\n",
    "    \n",
    "    Robust z score = x − μ1/2 MAD × 1.4826\n",
    "    '''\n",
    "    def __init__(self, only_low_values=False):\n",
    "        self.only_low_values= only_low_values\n",
    "        self.median = None\n",
    "        self.mad = None\n",
    "    \n",
    "    def __mad(self, x):\n",
    "        ''' retorna o MAD(Median Absolute Deviation) para cada valor de **x** '''\n",
    "        return (x - self.median)/self.mad\n",
    "    \n",
    "    def fit(self, x):\n",
    "        ''' Calcula os parametros do Zscore Robusto(Median/MAD) para os valores de **x** '''\n",
    "        self.mad = 1.4826*np.nanmedian(np.abs(x - np.nanmedian(x)))\n",
    "        self.median = np.nanmedian(x)\n",
    "\n",
    "    def predict(self, x, m=3.0):\n",
    "        ''' retorna se os valores de **x** são outliers '''\n",
    "        assert m > 0\n",
    "        assert len(x) > 0\n",
    "        \n",
    "        # Calcular MAD\n",
    "        mad = self.__mad(x)\n",
    "        \n",
    "        if self.only_low_values: # Retornando anomalias apenas para os valores menores que -m\n",
    "            return x[mad < -m]\n",
    "        else:                    # MAD padrão, valores de anomalias maiores que m ou menores que -m\n",
    "            return x[np.abs(mad) > m]\n",
    "        \n",
    "    def decision_function(self, x):\n",
    "        ''' retorna se os valores de mad para cada valor em **x**'''\n",
    "        mad = self.__mad(x)\n",
    "        \n",
    "        return mad\n",
    "    \n",
    "    def fit_predict(self, x, m=3.0):\n",
    "        ''' Calcula os parametros e retorno os valores\n",
    "            de **x** que são outliers'''\n",
    "        self.fit(x)\n",
    "        return self.predict(x, m)"
   ]
  },
  {
   "cell_type": "code",
   "execution_count": null,
   "metadata": {},
   "outputs": [
    {
     "data": {
      "text/markdown": [
       "<h4 id=\"MAD.fit\" class=\"doc_header\"><code>MAD.fit</code><a href=\"__main__.py#L17\" class=\"source_link\" style=\"float:right\">[source]</a></h4>\n",
       "\n",
       "> <code>MAD.fit</code>(**`x`**)\n",
       "\n",
       "Calcula os parametros do Zscore Robusto(Median/MAD) para os valores de **x** "
      ],
      "text/plain": [
       "<IPython.core.display.Markdown object>"
      ]
     },
     "metadata": {},
     "output_type": "display_data"
    }
   ],
   "source": [
    "show_doc(MAD.fit)"
   ]
  },
  {
   "cell_type": "code",
   "execution_count": null,
   "metadata": {},
   "outputs": [
    {
     "data": {
      "text/markdown": [
       "<h4 id=\"MAD.predict\" class=\"doc_header\"><code>MAD.predict</code><a href=\"__main__.py#L22\" class=\"source_link\" style=\"float:right\">[source]</a></h4>\n",
       "\n",
       "> <code>MAD.predict</code>(**`x`**, **`m`**=*`3.0`*)\n",
       "\n",
       "retorna se os valores de **x** são outliers "
      ],
      "text/plain": [
       "<IPython.core.display.Markdown object>"
      ]
     },
     "metadata": {},
     "output_type": "display_data"
    }
   ],
   "source": [
    "show_doc(MAD.predict)"
   ]
  },
  {
   "cell_type": "code",
   "execution_count": null,
   "metadata": {},
   "outputs": [
    {
     "data": {
      "text/markdown": [
       "<h4 id=\"MAD.fit_predict\" class=\"doc_header\"><code>MAD.fit_predict</code><a href=\"__main__.py#L41\" class=\"source_link\" style=\"float:right\">[source]</a></h4>\n",
       "\n",
       "> <code>MAD.fit_predict</code>(**`x`**, **`m`**=*`3.0`*)\n",
       "\n",
       "Calcula os parametros e retorno os valores\n",
       "de **x** que são outliers"
      ],
      "text/plain": [
       "<IPython.core.display.Markdown object>"
      ]
     },
     "metadata": {},
     "output_type": "display_data"
    }
   ],
   "source": [
    "show_doc(MAD.fit_predict)"
   ]
  },
  {
   "cell_type": "code",
   "execution_count": null,
   "metadata": {},
   "outputs": [
    {
     "data": {
      "text/markdown": [
       "<h4 id=\"MAD.decision_function\" class=\"doc_header\"><code>MAD.decision_function</code><a href=\"__main__.py#L35\" class=\"source_link\" style=\"float:right\">[source]</a></h4>\n",
       "\n",
       "> <code>MAD.decision_function</code>(**`x`**)\n",
       "\n",
       "retorna se os valores de mad para cada valor em **x**"
      ],
      "text/plain": [
       "<IPython.core.display.Markdown object>"
      ]
     },
     "metadata": {},
     "output_type": "display_data"
    }
   ],
   "source": [
    "show_doc(MAD.decision_function)"
   ]
  },
  {
   "cell_type": "markdown",
   "metadata": {},
   "source": [
    "### Uso"
   ]
  },
  {
   "cell_type": "code",
   "execution_count": null,
   "metadata": {},
   "outputs": [
    {
     "data": {
      "text/plain": [
       "array([ 2.03162821, -1.09820625, -1.10483056,  1.2660762 , -0.19888903])"
      ]
     },
     "execution_count": null,
     "metadata": {},
     "output_type": "execute_result"
    }
   ],
   "source": [
    "# test array\n",
    "x = np.random.randn(1000)\n",
    "x[:5]"
   ]
  },
  {
   "cell_type": "code",
   "execution_count": null,
   "metadata": {},
   "outputs": [
    {
     "data": {
      "text/plain": [
       "array([ 3.50162285, -3.12469124,  3.22225134,  3.33958115])"
      ]
     },
     "execution_count": null,
     "metadata": {},
     "output_type": "execute_result"
    }
   ],
   "source": [
    "mad = MAD()\n",
    "mad.fit_predict(x)"
   ]
  },
  {
   "cell_type": "code",
   "execution_count": null,
   "metadata": {},
   "outputs": [
    {
     "data": {
      "text/plain": [
       "array([-3.12469124])"
      ]
     },
     "execution_count": null,
     "metadata": {},
     "output_type": "execute_result"
    }
   ],
   "source": [
    "mad = MAD(only_low_values=True)\n",
    "mad.fit_predict(x)"
   ]
  },
  {
   "cell_type": "markdown",
   "metadata": {},
   "source": [
    "## Tukey"
   ]
  },
  {
   "cell_type": "code",
   "execution_count": null,
   "metadata": {},
   "outputs": [],
   "source": [
    "#export\n",
    "class Tukey():\n",
    "    ''' \n",
    "    classe responsavel por implemetar Tukey Method\n",
    "    para detecção de anomalias.\n",
    "    '''\n",
    "\n",
    "    def __init__(self, only_low_values=False):\n",
    "        self.only_low_values = only_low_values\n",
    "        self.iqr = None\n",
    "        self.q1 = None\n",
    "        self.q2 = None\n",
    "        self.q3 = None\n",
    "    \n",
    "    def fit(self, x):\n",
    "        ''' Calcula os parametros do Tukey(Q1,Q2,Q3) para os valores de **x** '''\n",
    "        x = np.sort(x) \n",
    "        n = len(x)//2\n",
    "    \n",
    "        # calculando os quartiles\n",
    "        self.q1 = np.nanmedian(x[:n])\n",
    "        self.q2 = np.nanmedian(x)\n",
    "        self.q3 = np.nanmedian(x[n:])\n",
    "    \n",
    "        self.iqr = self.q3 - self.q1\n",
    "        self.min = self.q1 - 1.5*self.iqr\n",
    "        self.max = self.q3 + 1.5*self.iqr\n",
    "        \n",
    "    def predict(self, x):\n",
    "        ''' retorna se os valores de **x** são outliers '''\n",
    "        if self.only_low_values:\n",
    "            return x[(x < self.min)]\n",
    "        else:\n",
    "            return x[(x < self.min) | (x >= self.max)]\n",
    "   \n",
    "    def decision_function(self, x):\n",
    "        ''' retorna o score para os valores de **x** '''\n",
    "        score = np.zeros(len(x))\n",
    "        score[x < self.min] = np.abs(x[x < self.min] - self.min)\n",
    "        score[x > self.max] = np.abs(x[x > self.max] - self.max)\n",
    "        \n",
    "        return np.log(score + 1)\n",
    "    \n",
    "    def fit_predict(self, x):\n",
    "        ''' Calcula os parametros e retorno os valores\n",
    "            de **x** que são outliers'''\n",
    "        self.fit(x)\n",
    "        return self.predict(x)"
   ]
  },
  {
   "cell_type": "code",
   "execution_count": null,
   "metadata": {},
   "outputs": [
    {
     "data": {
      "text/markdown": [
       "<h4 id=\"Tukey.fit\" class=\"doc_header\"><code>Tukey.fit</code><a href=\"__main__.py#L15\" class=\"source_link\" style=\"float:right\">[source]</a></h4>\n",
       "\n",
       "> <code>Tukey.fit</code>(**`x`**)\n",
       "\n",
       "Calcula os parametros do Tukey(Q1,Q2,Q3) para os valores de **x** "
      ],
      "text/plain": [
       "<IPython.core.display.Markdown object>"
      ]
     },
     "metadata": {},
     "output_type": "display_data"
    }
   ],
   "source": [
    "show_doc(Tukey.fit)"
   ]
  },
  {
   "cell_type": "code",
   "execution_count": null,
   "metadata": {},
   "outputs": [
    {
     "data": {
      "text/markdown": [
       "<h4 id=\"Tukey.predict\" class=\"doc_header\"><code>Tukey.predict</code><a href=\"__main__.py#L29\" class=\"source_link\" style=\"float:right\">[source]</a></h4>\n",
       "\n",
       "> <code>Tukey.predict</code>(**`x`**)\n",
       "\n",
       "retorna se os valores de **x** são outliers "
      ],
      "text/plain": [
       "<IPython.core.display.Markdown object>"
      ]
     },
     "metadata": {},
     "output_type": "display_data"
    }
   ],
   "source": [
    "show_doc(Tukey.predict)"
   ]
  },
  {
   "cell_type": "code",
   "execution_count": null,
   "metadata": {},
   "outputs": [
    {
     "data": {
      "text/markdown": [
       "<h4 id=\"Tukey.decision_function\" class=\"doc_header\"><code>Tukey.decision_function</code><a href=\"__main__.py#L36\" class=\"source_link\" style=\"float:right\">[source]</a></h4>\n",
       "\n",
       "> <code>Tukey.decision_function</code>(**`x`**)\n",
       "\n",
       "retorna o score para os valores de **x** "
      ],
      "text/plain": [
       "<IPython.core.display.Markdown object>"
      ]
     },
     "metadata": {},
     "output_type": "display_data"
    }
   ],
   "source": [
    "show_doc(Tukey.decision_function)"
   ]
  },
  {
   "cell_type": "markdown",
   "metadata": {},
   "source": [
    "### Tukey Uso"
   ]
  },
  {
   "cell_type": "code",
   "execution_count": null,
   "metadata": {},
   "outputs": [
    {
     "data": {
      "text/plain": [
       "array([], dtype=int64)"
      ]
     },
     "execution_count": null,
     "metadata": {},
     "output_type": "execute_result"
    }
   ],
   "source": [
    "x = np.arange(10)\n",
    "\n",
    "tu = Tukey()\n",
    "tu.fit_predict(x)"
   ]
  },
  {
   "cell_type": "code",
   "execution_count": null,
   "metadata": {},
   "outputs": [
    {
     "data": {
      "text/plain": [
       "array([-100,  100])"
      ]
     },
     "execution_count": null,
     "metadata": {},
     "output_type": "execute_result"
    }
   ],
   "source": [
    "x[0] = -100\n",
    "x[9] = 100\n",
    "\n",
    "tu = Tukey()\n",
    "tu.fit_predict(x)"
   ]
  },
  {
   "cell_type": "code",
   "execution_count": null,
   "metadata": {},
   "outputs": [
    {
     "data": {
      "text/plain": [
       "array([-100])"
      ]
     },
     "execution_count": null,
     "metadata": {},
     "output_type": "execute_result"
    }
   ],
   "source": [
    "tu = Tukey(only_low_values=True)\n",
    "tu.fit_predict(x)"
   ]
  }
 ],
 "metadata": {
  "kernelspec": {
   "display_name": "Python 3",
   "language": "python",
   "name": "python3"
  }
 },
 "nbformat": 4,
 "nbformat_minor": 4
}
