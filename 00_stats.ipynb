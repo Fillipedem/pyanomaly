{
 "cells": [
  {
   "cell_type": "code",
   "execution_count": null,
   "metadata": {},
   "outputs": [],
   "source": [
    "# default_exp stats"
   ]
  },
  {
   "cell_type": "markdown",
   "metadata": {},
   "source": [
    "# Stats\n",
    "\n",
    "> Algoritmos de detecção de Anomalias\n",
    "\n",
    "* Robust ZScore\n",
    "* Tukey\n",
    "* Twitter"
   ]
  },
  {
   "cell_type": "code",
   "execution_count": null,
   "metadata": {},
   "outputs": [],
   "source": [
    "#hide\n",
    "from nbdev.showdoc import *"
   ]
  },
  {
   "cell_type": "markdown",
   "metadata": {},
   "source": [
    "## Robust Zscore\n",
    "\n",
    "Para detecção de anomalias o Zscore Robusto é mais adequado que o Zscore padrão, uma vez que a média pode ser fortemente influenciada por outliers."
   ]
  },
  {
   "cell_type": "code",
   "execution_count": null,
   "metadata": {},
   "outputs": [],
   "source": [
    "#export\n",
    "import numpy as np\n",
    "\n",
    "class MAD():\n",
    "    ''' \n",
    "    classe responsavel por implemetar zscore robusto\n",
    "    para detecção de anomalias.\n",
    "    '''\n",
    "    value = 0.6745 # Valor que para aproximas \n",
    "\n",
    "    def __init__(self):\n",
    "        pass\n",
    "\n",
    "    def fit(self, x):\n",
    "        self.mad = np.nanmedian(np.abs(x - np.nanmedian(x)))\n",
    "        self.median = np.nanmedian(x)\n",
    "\n",
    "    def predict(self, x):\n",
    "        ''' returns MAD(Median Absolute Deviation) for each point x'''\n",
    "        \n",
    "        return (0.6745*(x - self.median))/self.mad"
   ]
  },
  {
   "cell_type": "code",
   "execution_count": null,
   "metadata": {},
   "outputs": [
    {
     "name": "stdout",
     "output_type": "stream",
     "text": [
      "[-1.2141 -0.9443 -0.6745 -0.4047 -0.1349  0.1349  0.4047  0.6745  0.9443\n",
      "  1.2141] 5.5\n"
     ]
    }
   ],
   "source": [
    "#hide\n",
    "x = [1, 2, 3, 4, 5, 6, 7, 8, 9, 10]\n",
    "\n",
    "mad = MAD()\n",
    "mad.fit(x)\n",
    "\n",
    "print(mad.predict(x), mad.median)"
   ]
  },
  {
   "cell_type": "code",
   "execution_count": null,
   "metadata": {},
   "outputs": [],
   "source": []
  }
 ],
 "metadata": {
  "kernelspec": {
   "display_name": "Python 3",
   "language": "python",
   "name": "python3"
  }
 },
 "nbformat": 4,
 "nbformat_minor": 2
}
