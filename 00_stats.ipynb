{
 "cells": [
  {
   "cell_type": "code",
   "execution_count": null,
   "metadata": {},
   "outputs": [],
   "source": [
    "# default_exp stats"
   ]
  },
  {
   "cell_type": "markdown",
   "metadata": {},
   "source": [
    "# stats\n",
    "\n",
    "> Módulo que contém os algoritmos para detecção de anomalias em dados univariados.\n",
    "\n",
    "* Robust ZScore\n",
    "* Tukey"
   ]
  },
  {
   "cell_type": "code",
   "execution_count": null,
   "metadata": {},
   "outputs": [],
   "source": [
    "#hide\n",
    "from nbdev.showdoc import *"
   ]
  },
  {
   "cell_type": "markdown",
   "metadata": {},
   "source": [
    "## Pré-requisitos"
   ]
  },
  {
   "cell_type": "code",
   "execution_count": null,
   "metadata": {},
   "outputs": [],
   "source": [
    "#export\n",
    "import numpy as np"
   ]
  },
  {
   "cell_type": "markdown",
   "metadata": {},
   "source": [
    "## MAD - Robust ZScore\n",
    "\n",
    "Para detecção de anomalias o Zscore Robusto é mais adequado que o Zscore padrão, uma vez que a media pode ser fortemente influenciada por outliers."
   ]
  },
  {
   "cell_type": "code",
   "execution_count": null,
   "metadata": {},
   "outputs": [],
   "source": [
    "#export\n",
    "class MAD():\n",
    "    ''' \n",
    "    classe responsavel por implemetar zscore robusto\n",
    "    para detecção de anomalias.\n",
    "    '''\n",
    "    def __init__(self, only_low_values=False):\n",
    "        self.only_low_values= only_low_values\n",
    "        \n",
    "    \n",
    "    def __mad(self, x):\n",
    "        ''' retorna o MAD(Median Absolute Deviation) para cada valor de **x** '''\n",
    "        return (x - self.median)/self.mad\n",
    "    \n",
    "    def fit(self, x):\n",
    "        ''' Calcula os parametros do Zscore Robusto(Median/MAD) para os valores de **x** '''\n",
    "        self.mad = 1.4826*np.nanmedian(np.abs(x - np.nanmedian(x)))\n",
    "        self.median = np.nanmedian(x)\n",
    "\n",
    "    def predict(self, x, m=3.0):\n",
    "        ''' retorna se os valores de **x** são outliers '''\n",
    "        assert m > 0\n",
    "        assert len(x) > 0\n",
    "        \n",
    "        # Calcular MAD\n",
    "        mad = self.__mad(x)\n",
    "        \n",
    "        if self.only_low_values: # Retornando anomalias apenas para os valores menores que -m\n",
    "            return x[mad < -m]\n",
    "        else:                    # MAD padrão, valores de anomalias maiores que m ou menores que -m\n",
    "            return x[np.abs(mad) > m]\n",
    "        \n",
    "    def decision_function(self, x):\n",
    "        ''' retorna se os valores de mad para cada valor em **x**'''\n",
    "        mad = self.__mad(x)\n",
    "        return np.abs(mad)\n",
    "    \n",
    "    def fit_predict(self, x, m=3.0):\n",
    "        ''' Calcula os parametros e retorno os valores\n",
    "            de **x** que são outliers'''\n",
    "        self.fit(x)\n",
    "        return self.predict(x, m)"
   ]
  },
  {
   "cell_type": "code",
   "execution_count": null,
   "metadata": {},
   "outputs": [
    {
     "data": {
      "text/markdown": [
       "<h4 id=\"MAD.fit\" class=\"doc_header\"><code>MAD.fit</code><a href=\"__main__.py#L15\" class=\"source_link\" style=\"float:right\">[source]</a></h4>\n",
       "\n",
       "> <code>MAD.fit</code>(**`x`**)\n",
       "\n",
       "Calcula os parametros do Zscore Robusto(Median/MAD) para os valores de **x** "
      ],
      "text/plain": [
       "<IPython.core.display.Markdown object>"
      ]
     },
     "metadata": {},
     "output_type": "display_data"
    }
   ],
   "source": [
    "show_doc(MAD.fit)"
   ]
  },
  {
   "cell_type": "code",
   "execution_count": null,
   "metadata": {},
   "outputs": [
    {
     "data": {
      "text/markdown": [
       "<h4 id=\"MAD.predict\" class=\"doc_header\"><code>MAD.predict</code><a href=\"__main__.py#L20\" class=\"source_link\" style=\"float:right\">[source]</a></h4>\n",
       "\n",
       "> <code>MAD.predict</code>(**`x`**, **`m`**=*`3.0`*)\n",
       "\n",
       "retorna se os valores de **x** são outliers "
      ],
      "text/plain": [
       "<IPython.core.display.Markdown object>"
      ]
     },
     "metadata": {},
     "output_type": "display_data"
    }
   ],
   "source": [
    "show_doc(MAD.predict)"
   ]
  },
  {
   "cell_type": "code",
   "execution_count": null,
   "metadata": {},
   "outputs": [
    {
     "data": {
      "text/markdown": [
       "<h4 id=\"MAD.fit_predict\" class=\"doc_header\"><code>MAD.fit_predict</code><a href=\"__main__.py#L38\" class=\"source_link\" style=\"float:right\">[source]</a></h4>\n",
       "\n",
       "> <code>MAD.fit_predict</code>(**`x`**, **`m`**=*`3.0`*)\n",
       "\n",
       "Calcula os parametros e retorno os valores\n",
       "de **x** que são outliers"
      ],
      "text/plain": [
       "<IPython.core.display.Markdown object>"
      ]
     },
     "metadata": {},
     "output_type": "display_data"
    }
   ],
   "source": [
    "show_doc(MAD.fit_predict)"
   ]
  },
  {
   "cell_type": "code",
   "execution_count": null,
   "metadata": {},
   "outputs": [
    {
     "data": {
      "text/markdown": [
       "<h4 id=\"MAD.decision_function\" class=\"doc_header\"><code>MAD.decision_function</code><a href=\"__main__.py#L33\" class=\"source_link\" style=\"float:right\">[source]</a></h4>\n",
       "\n",
       "> <code>MAD.decision_function</code>(**`x`**)\n",
       "\n",
       "retorna se os valores de mad para cada valor em **x**"
      ],
      "text/plain": [
       "<IPython.core.display.Markdown object>"
      ]
     },
     "metadata": {},
     "output_type": "display_data"
    }
   ],
   "source": [
    "show_doc(MAD.decision_function)"
   ]
  },
  {
   "cell_type": "markdown",
   "metadata": {},
   "source": [
    "### Uso"
   ]
  },
  {
   "cell_type": "code",
   "execution_count": null,
   "metadata": {},
   "outputs": [
    {
     "data": {
      "text/plain": [
       "array([-0.82690206, -1.88571169, -0.51696294, -0.42130458,  0.76463908])"
      ]
     },
     "execution_count": null,
     "metadata": {},
     "output_type": "execute_result"
    }
   ],
   "source": [
    "# test array\n",
    "x = np.random.randn(1000)\n",
    "x[:5]"
   ]
  },
  {
   "cell_type": "code",
   "execution_count": null,
   "metadata": {},
   "outputs": [
    {
     "name": "stdout",
     "output_type": "stream",
     "text": [
      "270.0118\n"
     ]
    }
   ],
   "source": [
    "c = 0\n",
    "for i in range(10000):\n",
    "    x = np.random.randn(100000)\n",
    "    mad = MAD()\n",
    "    c += len(mad.fit_predict(x))\n",
    "    \n",
    "print(c/10000)"
   ]
  },
  {
   "cell_type": "code",
   "execution_count": null,
   "metadata": {},
   "outputs": [
    {
     "data": {
      "text/plain": [
       "array([ 3.27592621, -3.12483499, -3.07621986, -4.35509144, -3.11763292,\n",
       "        3.02535581, -3.13180615, -3.36548647, -3.17178004,  3.20330791,\n",
       "       -3.25650258,  3.23529732,  3.005557  , -3.01793514, -3.23464314,\n",
       "        3.72496206,  3.67438503,  3.30450105, -3.88702698, -3.38811252,\n",
       "       -3.09784111, -3.21788054,  3.44247211,  3.20910071,  3.11806897,\n",
       "        3.0611691 ,  3.10271219, -3.25680801,  3.45402775,  3.11746403,\n",
       "       -3.14437312,  4.14825567, -3.23858757,  3.40011544, -3.29404252,\n",
       "       -3.65647837, -3.49607383, -3.09603364, -3.37893962, -3.00973155,\n",
       "       -3.51254726, -4.43972934, -3.16725637,  3.99745325, -3.20749375,\n",
       "        3.05409709,  3.36455888, -3.10022827,  3.48807505, -3.16800588,\n",
       "       -3.43319907,  3.0436603 , -3.00018575, -3.4209345 , -3.2077666 ,\n",
       "       -3.3380403 , -3.12287003, -3.93098243,  3.06720511, -3.26746365,\n",
       "       -3.26191382, -3.01689676,  3.01441082, -3.0333311 ,  3.31513357,\n",
       "       -3.00778245, -3.67877704, -3.07527578,  3.66773473, -3.11339274,\n",
       "       -3.0771261 , -3.31498754, -3.01949437,  3.11168345,  3.45093494,\n",
       "       -3.52037861, -3.08269846, -3.64618945, -3.04813936,  3.00171367,\n",
       "        3.01545333,  3.01502534, -3.33648976, -3.26850786, -3.18492479,\n",
       "        3.17257019,  3.10110079,  3.27737123, -3.16386913, -3.16648756,\n",
       "        3.21765516, -3.71270225, -3.01268043,  3.10521978, -3.35499748,\n",
       "        3.0183044 , -3.0513702 ,  3.36436493,  3.27845446,  3.03343486,\n",
       "       -3.23079039, -3.20146261, -3.22760268, -3.3918368 ,  3.13927433,\n",
       "       -3.16001693, -3.10569312,  3.48950267, -3.29375012,  3.03159444,\n",
       "       -3.01940572, -3.42432646,  3.05068529, -3.52400589,  3.10576984,\n",
       "        3.13093979,  3.47896084,  3.38234211,  3.5881748 ,  3.13268593,\n",
       "       -2.99992288, -3.18760948, -3.01976826,  3.33192808, -3.20164533,\n",
       "       -3.05163304, -3.08378268, -3.90496487, -3.18579951, -3.34496646,\n",
       "       -3.14631158,  3.04315786, -3.4567488 ,  3.16295342,  3.24480862,\n",
       "        3.38449897,  3.02698292, -3.17443528,  3.36123677,  3.20210784,\n",
       "        3.09381555, -3.10735042, -3.32788734,  3.61325326, -3.70208604,\n",
       "       -3.0201313 ,  3.09432673, -3.14750099,  3.49630096, -3.11971312,\n",
       "        3.07906489,  4.12252625, -3.23532763, -3.3681661 ,  4.19438675,\n",
       "        3.04736356, -3.03095945,  3.18378846, -3.60663983,  3.16008277,\n",
       "        3.03854715,  3.1790413 ,  3.19262509, -3.11243567,  3.68539054,\n",
       "        3.04365048, -3.13879221, -3.06795273,  4.54703181, -3.46963934,\n",
       "        3.1578034 , -3.24786814, -3.07697828, -3.59613527, -3.06358842,\n",
       "        3.60326622,  3.24667723,  3.03260091, -3.00737617,  3.01357121,\n",
       "       -3.41937247, -3.19658207,  3.02191803, -3.09008963, -3.11451906,\n",
       "       -3.14650958,  3.13766697, -3.13415617, -3.25927405, -3.24513258,\n",
       "       -3.23196758,  3.72588819, -3.58612801,  3.196107  , -3.11894907,\n",
       "        3.16383667,  3.17836813,  3.08206537,  3.20549532, -3.03504273,\n",
       "       -3.15567249,  3.38558984, -3.35592055, -3.25403212, -3.02386048,\n",
       "       -3.09002269,  3.33371065, -3.28011091, -3.43676141, -3.24506275,\n",
       "        3.01679243, -3.3737952 , -3.48972388, -3.01928836, -3.54635803,\n",
       "        4.13380286,  3.13256431, -3.22074244, -3.35471622, -3.21785743,\n",
       "       -3.03472492, -2.99855595,  3.56381999,  3.84300476,  3.26037339,\n",
       "        3.32613569, -3.86275833,  3.02194216, -4.04260702,  3.2451534 ,\n",
       "        3.19816421, -3.25144628, -3.62922583, -3.25957051, -3.10761057,\n",
       "       -3.09935623, -3.54237756,  3.0434919 ,  3.27696663,  3.0071612 ,\n",
       "       -3.81191688, -3.17994326,  3.26613226, -3.20456977,  3.31896104,\n",
       "        3.38915824, -3.02610408, -3.06219999, -3.08477859, -3.08372193,\n",
       "       -3.15946223, -3.28942669,  3.00476641, -3.564737  , -3.06465255,\n",
       "        3.23284541,  3.35245114,  3.12403712, -3.14567626, -3.70398364,\n",
       "        3.00205872, -2.99827729, -3.14335521, -3.09488967, -3.37083928,\n",
       "        3.10752518, -3.01059884])"
      ]
     },
     "execution_count": null,
     "metadata": {},
     "output_type": "execute_result"
    }
   ],
   "source": [
    "mad = MAD()\n",
    "mad.fit_predict(x)"
   ]
  },
  {
   "cell_type": "code",
   "execution_count": null,
   "metadata": {},
   "outputs": [
    {
     "data": {
      "text/plain": [
       "array([-3.12483499, -3.07621986, -4.35509144, -3.11763292, -3.13180615,\n",
       "       -3.36548647, -3.17178004, -3.25650258, -3.01793514, -3.23464314,\n",
       "       -3.88702698, -3.38811252, -3.09784111, -3.21788054, -3.25680801,\n",
       "       -3.14437312, -3.23858757, -3.29404252, -3.65647837, -3.49607383,\n",
       "       -3.09603364, -3.37893962, -3.00973155, -3.51254726, -4.43972934,\n",
       "       -3.16725637, -3.20749375, -3.10022827, -3.16800588, -3.43319907,\n",
       "       -3.00018575, -3.4209345 , -3.2077666 , -3.3380403 , -3.12287003,\n",
       "       -3.93098243, -3.26746365, -3.26191382, -3.01689676, -3.0333311 ,\n",
       "       -3.00778245, -3.67877704, -3.07527578, -3.11339274, -3.0771261 ,\n",
       "       -3.31498754, -3.01949437, -3.52037861, -3.08269846, -3.64618945,\n",
       "       -3.04813936, -3.33648976, -3.26850786, -3.18492479, -3.16386913,\n",
       "       -3.16648756, -3.71270225, -3.01268043, -3.35499748, -3.0513702 ,\n",
       "       -3.23079039, -3.20146261, -3.22760268, -3.3918368 , -3.16001693,\n",
       "       -3.10569312, -3.29375012, -3.01940572, -3.42432646, -3.52400589,\n",
       "       -2.99992288, -3.18760948, -3.01976826, -3.20164533, -3.05163304,\n",
       "       -3.08378268, -3.90496487, -3.18579951, -3.34496646, -3.14631158,\n",
       "       -3.4567488 , -3.17443528, -3.10735042, -3.32788734, -3.70208604,\n",
       "       -3.0201313 , -3.14750099, -3.11971312, -3.23532763, -3.3681661 ,\n",
       "       -3.03095945, -3.60663983, -3.11243567, -3.13879221, -3.06795273,\n",
       "       -3.46963934, -3.24786814, -3.07697828, -3.59613527, -3.06358842,\n",
       "       -3.00737617, -3.41937247, -3.19658207, -3.09008963, -3.11451906,\n",
       "       -3.14650958, -3.13415617, -3.25927405, -3.24513258, -3.23196758,\n",
       "       -3.58612801, -3.11894907, -3.03504273, -3.15567249, -3.35592055,\n",
       "       -3.25403212, -3.02386048, -3.09002269, -3.28011091, -3.43676141,\n",
       "       -3.24506275, -3.3737952 , -3.48972388, -3.01928836, -3.54635803,\n",
       "       -3.22074244, -3.35471622, -3.21785743, -3.03472492, -2.99855595,\n",
       "       -3.86275833, -4.04260702, -3.25144628, -3.62922583, -3.25957051,\n",
       "       -3.10761057, -3.09935623, -3.54237756, -3.81191688, -3.17994326,\n",
       "       -3.20456977, -3.02610408, -3.06219999, -3.08477859, -3.08372193,\n",
       "       -3.15946223, -3.28942669, -3.564737  , -3.06465255, -3.14567626,\n",
       "       -3.70398364, -2.99827729, -3.14335521, -3.09488967, -3.37083928,\n",
       "       -3.01059884])"
      ]
     },
     "execution_count": null,
     "metadata": {},
     "output_type": "execute_result"
    }
   ],
   "source": [
    "mad = MAD(only_low_values=True)\n",
    "mad.fit_predict(x)"
   ]
  },
  {
   "cell_type": "code",
   "execution_count": null,
   "metadata": {},
   "outputs": [],
   "source": [
    "import matplotlib.pyplot as plt\n",
    "import seaborn as sns; sns.set(style='whitegrid')"
   ]
  },
  {
   "cell_type": "code",
   "execution_count": null,
   "metadata": {},
   "outputs": [
    {
     "data": {
      "text/plain": [
       "<AxesSubplot:>"
      ]
     },
     "execution_count": null,
     "metadata": {},
     "output_type": "execute_result"
    },
    {
     "data": {
      "image/png": "[encoded data removed]",
      "text/plain": [
       "<Figure size 432x288 with 1 Axes>"
      ]
     },
     "metadata": {},
     "output_type": "display_data"
    }
   ],
   "source": [
    "sns.distplot(mad.decision_function(x))"
   ]
  },
  {
   "cell_type": "markdown",
   "metadata": {},
   "source": [
    "## Tukey"
   ]
  },
  {
   "cell_type": "code",
   "execution_count": null,
   "metadata": {},
   "outputs": [
    {
     "data": {
      "text/plain": [
       "156"
      ]
     },
     "execution_count": null,
     "metadata": {},
     "output_type": "execute_result"
    }
   ],
   "source": [
    "len(mad.fit_predict(x))"
   ]
  },
  {
   "cell_type": "code",
   "execution_count": null,
   "metadata": {},
   "outputs": [],
   "source": [
    "#export\n",
    "class Tukey():\n",
    "    ''' \n",
    "    classe responsavel por implemetar Tukey Method\n",
    "    para detecção de anomalias.\n",
    "    '''\n",
    "\n",
    "    def __init__(self, only_low_values=False):\n",
    "        self.only_low_values = only_low_values\n",
    "        self.iqr = None\n",
    "        self.q1 = None\n",
    "        self.q2 = None\n",
    "        self.q3 = None\n",
    "    \n",
    "    def fit(self, x):\n",
    "        ''' Calcula os parametros do Tukey(Q1,Q2,Q3) para os valores de **x** '''\n",
    "        x = np.sort(x) \n",
    "        n = len(x)//2\n",
    "    \n",
    "        # calculando os quartiles\n",
    "        self.q1 = np.nanmedian(x[:n])\n",
    "        self.q2 = np.nanmedian(x)\n",
    "        self.q3 = np.nanmedian(x[n:])\n",
    "    \n",
    "        self.iqr = self.q3 - self.q1\n",
    "        self.min = self.q1 - 1.5*self.iqr\n",
    "        self.max = self.q3 + 1.5*self.iqr\n",
    "        \n",
    "    def predict(self, x):\n",
    "        ''' retorna se os valores de **x** são outliers '''\n",
    "        if self.only_low_values:\n",
    "            return x[(x < self.min)]\n",
    "        else:\n",
    "            return x[(x < self.min) | (x >= self.max)]\n",
    "   \n",
    "    def decision_function(self, x):\n",
    "        ''' retorna o score para os valores de **x** '''\n",
    "        score = np.zeros(len(x))\n",
    "        score[x < self.min] = np.abs(x[x < self.min] - self.min)\n",
    "        score[x > self.max] = np.abs(x[x > self.max] - self.max)\n",
    "        \n",
    "        return np.log(score + 1)\n",
    "    \n",
    "    def fit_predict(self, x):\n",
    "        ''' Calcula os parametros e retorno os valores\n",
    "            de **x** que são outliers'''\n",
    "        self.fit(x)\n",
    "        return self.predict(x)"
   ]
  },
  {
   "cell_type": "code",
   "execution_count": null,
   "metadata": {},
   "outputs": [
    {
     "data": {
      "text/markdown": [
       "<h4 id=\"Tukey.fit\" class=\"doc_header\"><code>Tukey.fit</code><a href=\"__main__.py#L15\" class=\"source_link\" style=\"float:right\">[source]</a></h4>\n",
       "\n",
       "> <code>Tukey.fit</code>(**`x`**)\n",
       "\n",
       "Calcula os parametros do Tukey(Q1,Q2,Q3) para os valores de **x** "
      ],
      "text/plain": [
       "<IPython.core.display.Markdown object>"
      ]
     },
     "metadata": {},
     "output_type": "display_data"
    }
   ],
   "source": [
    "show_doc(Tukey.fit)"
   ]
  },
  {
   "cell_type": "code",
   "execution_count": null,
   "metadata": {},
   "outputs": [
    {
     "data": {
      "text/markdown": [
       "<h4 id=\"Tukey.predict\" class=\"doc_header\"><code>Tukey.predict</code><a href=\"__main__.py#L29\" class=\"source_link\" style=\"float:right\">[source]</a></h4>\n",
       "\n",
       "> <code>Tukey.predict</code>(**`x`**)\n",
       "\n",
       "retorna se os valores de **x** são outliers "
      ],
      "text/plain": [
       "<IPython.core.display.Markdown object>"
      ]
     },
     "metadata": {},
     "output_type": "display_data"
    }
   ],
   "source": [
    "show_doc(Tukey.predict)"
   ]
  },
  {
   "cell_type": "code",
   "execution_count": null,
   "metadata": {},
   "outputs": [
    {
     "data": {
      "text/markdown": [
       "<h4 id=\"Tukey.decision_function\" class=\"doc_header\"><code>Tukey.decision_function</code><a href=\"__main__.py#L36\" class=\"source_link\" style=\"float:right\">[source]</a></h4>\n",
       "\n",
       "> <code>Tukey.decision_function</code>(**`x`**)\n",
       "\n",
       "retorna o score para os valores de **x** "
      ],
      "text/plain": [
       "<IPython.core.display.Markdown object>"
      ]
     },
     "metadata": {},
     "output_type": "display_data"
    }
   ],
   "source": [
    "show_doc(Tukey.decision_function)"
   ]
  },
  {
   "cell_type": "markdown",
   "metadata": {},
   "source": [
    "### Tukey Uso"
   ]
  },
  {
   "cell_type": "code",
   "execution_count": null,
   "metadata": {},
   "outputs": [
    {
     "data": {
      "text/plain": [
       "array([], dtype=int64)"
      ]
     },
     "execution_count": null,
     "metadata": {},
     "output_type": "execute_result"
    }
   ],
   "source": [
    "x = np.arange(10)\n",
    "\n",
    "tu = Tukey()\n",
    "tu.fit_predict(x)"
   ]
  },
  {
   "cell_type": "code",
   "execution_count": null,
   "metadata": {},
   "outputs": [
    {
     "data": {
      "text/plain": [
       "array([-100,  100])"
      ]
     },
     "execution_count": null,
     "metadata": {},
     "output_type": "execute_result"
    }
   ],
   "source": [
    "x[0] = -100\n",
    "x[9] = 100\n",
    "\n",
    "tu = Tukey()\n",
    "tu.fit_predict(x)"
   ]
  },
  {
   "cell_type": "code",
   "execution_count": null,
   "metadata": {},
   "outputs": [
    {
     "data": {
      "text/plain": [
       "array([-100])"
      ]
     },
     "execution_count": null,
     "metadata": {},
     "output_type": "execute_result"
    }
   ],
   "source": [
    "tu = Tukey(only_low_values=True)\n",
    "tu.fit_predict(x)"
   ]
  }
 ],
 "metadata": {
  "kernelspec": {
   "display_name": "Python 3",
   "language": "python",
   "name": "python3"
  }
 },
 "nbformat": 4,
 "nbformat_minor": 2
}
